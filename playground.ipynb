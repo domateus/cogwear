{
 "cells": [
  {
   "cell_type": "code",
   "execution_count": 2,
   "metadata": {},
   "outputs": [],
   "source": [
    "import os\n",
    "import pandas as pd\n",
    "import numpy as np\n",
    "from src.signals.ppg import PPGSubject\n",
    "from src.signals.eeg import EEGSubject, EEGExperiment\n",
    "from src.signals.subject import Subject\n",
    "from src.signals.eda import EDAExperiment\n",
    "from src.signals.ppg import PPGExperiment\n",
    "from src.experiments.experiment import ExperimentType, Experiment\n",
    "from math import sqrt, log10\n",
    "from src.classifiers.tuning.hptuning import Tuner, get_hyperparameters, best_trial_hyperparameter\n",
    "# from src.classifiers.hyperparameters import Hyperparameters\n",
    "# from src.signals.eda import \n",
    "import scipy.stats as stats\n",
    "from sklearn import svm\n",
    "\n",
    "\n",
    "path = os.getcwd()\n",
    "survey_path = \"{0}/survey_gamification\".format(os.getcwd())"
   ]
  },
  {
   "cell_type": "code",
   "execution_count": 8,
   "metadata": {},
   "outputs": [],
   "source": [
    "ppg = PPGSubject(path=survey_path, id=\"11\", device=\"samsung\", sensor=\"ppg\", experiment_type=ExperimentType.FEATURE_ENGINEERING)\n",
    "emp = PPGSubject(path=survey_path, id=\"11\", device=\"empatica\", sensor=\"ppg\", experiment_type=ExperimentType.)\n",
    "# eda = Subject(path=survey_path, id=\"11\", device=\"empatica\", sensor=\"eda\")\n",
    "# eeg =  EEGSubject(path=survey_path, id=\"11\", device=\"\", sensor=\"\")"
   ]
  },
  {
   "cell_type": "code",
   "execution_count": 2,
   "metadata": {},
   "outputs": [],
   "source": [
    "eeg = Experiment(classifier='cnn', type=ExperimentType.END_TO_END, path=path, device='muse', signal='eeg', subject=EEGSubject)"
   ]
  },
  {
   "cell_type": "code",
   "execution_count": 5,
   "metadata": {},
   "outputs": [],
   "source": [
    "eeg = EEGExperiment(classifier='cnn', type=ExperimentType.END_TO_END, path=path)"
   ]
  },
  {
   "cell_type": "code",
   "execution_count": 14,
   "metadata": {},
   "outputs": [],
   "source": [
    "fee = PPGExperiment(classifier='lstm', type=ExperimentType.FEATURE_ENGINEERING, path=path, device='samsung')\n",
    "cnn = PPGExperiment(classifier='resnet', type=ExperimentType.FEATURE_ENGINEERING, path=path, device='samsung')\n"
   ]
  },
  {
   "cell_type": "code",
   "execution_count": 15,
   "metadata": {},
   "outputs": [],
   "source": [
    "tuner = Tuner(fee)\n",
    "ct = Tuner(cnn)"
   ]
  },
  {
   "cell_type": "code",
   "execution_count": 16,
   "metadata": {},
   "outputs": [
    {
     "name": "stderr",
     "output_type": "stream",
     "text": [
      "2024-10-01 19:31:39,860 [INFO] trials length: 0\n"
     ]
    },
    {
     "name": "stdout",
     "output_type": "stream",
     "text": [
      "  0%|          | 0/1 [00:00<?, ?trial/s, best loss=?]"
     ]
    },
    {
     "name": "stderr",
     "output_type": "stream",
     "text": [
      "2024-10-01 19:31:39,866 [INFO] Running objective for resnet at 0 iteration\n",
      "2024-10-01 19:31:40,565 [INFO] Experiment for ppg signal, classifier: resnet, fold: 7\n",
      "2024-10-01 19:31:42,971 [INFO] Fitting model: resnet, shape: (49, 30, 1)\n"
     ]
    },
    {
     "name": "stdout",
     "output_type": "stream",
     "text": [
      "Epoch 1/300                                          \n",
      "\n",
      "Epoch 2/300                                          \n",
      "\n",
      "Epoch 3/300                                          \n",
      "\n",
      "Epoch 4/300                                          \n",
      "\n",
      "Epoch 5/300                                          \n",
      "\n",
      "Epoch 6/300                                          \n",
      "\n",
      "Epoch 7/300                                          \n",
      "\n",
      "Epoch 8/300                                          \n",
      "\n",
      "Epoch 9/300                                          \n",
      "\n",
      "Epoch 10/300                                         \n",
      "\n",
      "Epoch 11/300                                         \n",
      "\n",
      "Epoch 12/300                                         \n",
      "\n",
      "Epoch 13/300                                         \n",
      "\n",
      "Epoch 14/300                                         \n",
      "\n",
      "Epoch 15/300                                         \n",
      "\n",
      "Epoch 16/300                                         \n",
      "\n",
      "Epoch 17/300                                         \n",
      "\n",
      "Epoch 18/300                                         \n",
      "\n",
      "Epoch 19/300                                         \n",
      "\n",
      "Epoch 20/300                                         \n",
      "\n",
      "Epoch 21/300                                         \n",
      "\n",
      "Epoch 22/300                                         \n",
      "\n",
      "Epoch 23/300                                         \n",
      "\n",
      "Epoch 24/300                                         \n",
      "\n",
      "Epoch 25/300                                         \n",
      "\n",
      "Epoch 26/300                                         \n",
      "\n",
      "Epoch 27/300                                         \n",
      "\n",
      "Epoch 28/300                                         \n",
      "\n",
      "Epoch 29/300                                         \n",
      "\n",
      "Epoch 30/300                                         \n",
      "\n",
      "Epoch 31/300                                         \n",
      "\n",
      "Epoch 32/300                                         \n",
      "\n",
      "Epoch 33/300                                         \n",
      "\n",
      "\u001b[1m1/1\u001b[0m \u001b[32m━━━━━━━━━━━━━━━━━━━━\u001b[0m\u001b[37m\u001b[0m \u001b[1m0s\u001b[0m 2s/step\n",
      "\u001b[1m1/1\u001b[0m \u001b[32m━━━━━━━━━━━━━━━━━━━━\u001b[0m\u001b[37m\u001b[0m \u001b[1m2s\u001b[0m 2s/step\n",
      "\n",
      "   precision  recall   duration        f1            \n",
      "0   0.222222     1.0  49.887317  0.363636\n",
      "  0%|          | 0/1 [00:54<?, ?trial/s, best loss=?]"
     ]
    },
    {
     "name": "stderr",
     "output_type": "stream",
     "text": [
      "2024-10-01 19:32:35,742 [INFO] Finished experiment for ppg signal, classifier: resnet, fold: 7\n"
     ]
    },
    {
     "name": "stdout",
     "output_type": "stream",
     "text": [
      "100%|██████████| 1/1 [00:57<00:00, 57.06s/trial, best loss: 0.6781880259513855]\n"
     ]
    },
    {
     "data": {
      "text/plain": [
       "<hyperopt.base.Trials at 0x7464955a3090>"
      ]
     },
     "execution_count": 16,
     "metadata": {},
     "output_type": "execute_result"
    }
   ],
   "source": [
    "ct.tune(evals=1, max_evals=2)"
   ]
  },
  {
   "cell_type": "code",
   "execution_count": 7,
   "metadata": {},
   "outputs": [
    {
     "name": "stderr",
     "output_type": "stream",
     "text": [
      "2024-10-01 19:29:31,451 [INFO] loaded existing trials\n",
      "2024-10-01 19:29:31,452 [INFO] loaded existing trials\n"
     ]
    },
    {
     "name": "stdout",
     "output_type": "stream",
     "text": [
      "model path: /home/mateus/Documents/school/tcc/code/results_30/FEATURE_ENGINEERING/samsung_ppg/losocv/fcn/14_best_model.weights.h5\n"
     ]
    },
    {
     "name": "stderr",
     "output_type": "stream",
     "text": [
      "/home/linuxbrew/.linuxbrew/Cellar/python@3.11/3.11.4_1/lib/python3.11/site-packages/keras/src/saving/saving_lib.py:713: UserWarning: Skipping variable loading for optimizer 'adamw', because it has 2 variables whereas the saved optimizer has 246 variables. \n",
      "  saveable.load_own_variables(weights_store.get(inner_path))\n"
     ]
    },
    {
     "name": "stdout",
     "output_type": "stream",
     "text": [
      "\u001b[1m4/4\u001b[0m \u001b[32m━━━━━━━━━━━━━━━━━━━━\u001b[0m\u001b[37m\u001b[0m \u001b[1m2s\u001b[0m 243ms/step\n",
      "   precision    recall  duration        f1\n",
      "0        1.0  0.075758  1.964304  0.140845\n",
      "model path: /home/mateus/Documents/school/tcc/code/results_30/FEATURE_ENGINEERING/samsung_ppg/losocv/fcn/13_best_model.weights.h5\n"
     ]
    },
    {
     "name": "stderr",
     "output_type": "stream",
     "text": [
      "/home/linuxbrew/.linuxbrew/Cellar/python@3.11/3.11.4_1/lib/python3.11/site-packages/keras/src/saving/saving_lib.py:713: UserWarning: Skipping variable loading for optimizer 'adamw', because it has 2 variables whereas the saved optimizer has 246 variables. \n",
      "  saveable.load_own_variables(weights_store.get(inner_path))\n"
     ]
    },
    {
     "name": "stdout",
     "output_type": "stream",
     "text": [
      "\u001b[1m4/4\u001b[0m \u001b[32m━━━━━━━━━━━━━━━━━━━━\u001b[0m\u001b[37m\u001b[0m \u001b[1m1s\u001b[0m 241ms/step\n",
      "   precision  recall  duration        f1\n",
      "0   0.605505     1.0  1.411613  0.754286\n",
      "model path: /home/mateus/Documents/school/tcc/code/results_30/FEATURE_ENGINEERING/samsung_ppg/losocv/fcn/11_best_model.weights.h5\n"
     ]
    },
    {
     "name": "stderr",
     "output_type": "stream",
     "text": [
      "/home/linuxbrew/.linuxbrew/Cellar/python@3.11/3.11.4_1/lib/python3.11/site-packages/keras/src/saving/saving_lib.py:713: UserWarning: Skipping variable loading for optimizer 'adamw', because it has 2 variables whereas the saved optimizer has 246 variables. \n",
      "  saveable.load_own_variables(weights_store.get(inner_path))\n"
     ]
    },
    {
     "name": "stdout",
     "output_type": "stream",
     "text": [
      "\u001b[1m4/4\u001b[0m \u001b[32m━━━━━━━━━━━━━━━━━━━━\u001b[0m\u001b[37m\u001b[0m \u001b[1m1s\u001b[0m 227ms/step\n",
      "   precision    recall  duration        f1\n",
      "0   0.602151  0.848485  1.293661  0.704403\n",
      "model path: /home/mateus/Documents/school/tcc/code/results_30/FEATURE_ENGINEERING/samsung_ppg/losocv/fcn/12_best_model.weights.h5\n"
     ]
    },
    {
     "name": "stderr",
     "output_type": "stream",
     "text": [
      "/home/linuxbrew/.linuxbrew/Cellar/python@3.11/3.11.4_1/lib/python3.11/site-packages/keras/src/saving/saving_lib.py:713: UserWarning: Skipping variable loading for optimizer 'adamw', because it has 2 variables whereas the saved optimizer has 246 variables. \n",
      "  saveable.load_own_variables(weights_store.get(inner_path))\n"
     ]
    },
    {
     "name": "stdout",
     "output_type": "stream",
     "text": [
      "\u001b[1m4/4\u001b[0m \u001b[32m━━━━━━━━━━━━━━━━━━━━\u001b[0m\u001b[37m\u001b[0m \u001b[1m1s\u001b[0m 212ms/step\n",
      "   precision    recall  duration        f1\n",
      "0   0.512195  0.318182  1.218695  0.392523\n",
      "model path: /home/mateus/Documents/school/tcc/code/results_30/FEATURE_ENGINEERING/samsung_ppg/losocv/fcn/15_best_model.weights.h5\n"
     ]
    },
    {
     "name": "stderr",
     "output_type": "stream",
     "text": [
      "/home/linuxbrew/.linuxbrew/Cellar/python@3.11/3.11.4_1/lib/python3.11/site-packages/keras/src/saving/saving_lib.py:713: UserWarning: Skipping variable loading for optimizer 'adamw', because it has 2 variables whereas the saved optimizer has 246 variables. \n",
      "  saveable.load_own_variables(weights_store.get(inner_path))\n"
     ]
    },
    {
     "name": "stdout",
     "output_type": "stream",
     "text": [
      "\u001b[1m4/4\u001b[0m \u001b[32m━━━━━━━━━━━━━━━━━━━━\u001b[0m\u001b[37m\u001b[0m \u001b[1m1s\u001b[0m 236ms/step\n",
      "   precision    recall  duration        f1\n",
      "0   0.578125  0.560606  1.414924  0.569231\n"
     ]
    },
    {
     "data": {
      "text/plain": [
       "{'14':    precision    recall  duration        f1\n",
       " 0        1.0  0.075758  1.964304  0.140845,\n",
       " '13':    precision  recall  duration        f1\n",
       " 0   0.605505     1.0  1.411613  0.754286,\n",
       " '11':    precision    recall  duration        f1\n",
       " 0   0.602151  0.848485  1.293661  0.704403,\n",
       " '12':    precision    recall  duration        f1\n",
       " 0   0.512195  0.318182  1.218695  0.392523,\n",
       " '15':    precision    recall  duration        f1\n",
       " 0   0.578125  0.560606  1.414924  0.569231}"
      ]
     },
     "execution_count": 7,
     "metadata": {},
     "output_type": "execute_result"
    }
   ],
   "source": [
    "fee.test_best_models(tuner)"
   ]
  },
  {
   "cell_type": "code",
   "execution_count": 5,
   "metadata": {},
   "outputs": [
    {
     "name": "stderr",
     "output_type": "stream",
     "text": [
      "2024-10-01 19:17:52,472 [INFO] loaded existing trials\n",
      "2024-10-01 19:17:52,473 [INFO] trials length: 0\n"
     ]
    },
    {
     "name": "stdout",
     "output_type": "stream",
     "text": [
      "  0%|          | 0/1 [00:00<?, ?trial/s, best loss=?]"
     ]
    },
    {
     "name": "stderr",
     "output_type": "stream",
     "text": [
      "2024-10-01 19:17:52,484 [INFO] Running objective for fcn at 0 iteration\n",
      "2024-10-01 19:17:52,599 [INFO] Experiment for ppg signal, classifier: fcn, fold: 0\n",
      "2024-10-01 19:17:54,694 [INFO] Fitting model: fcn, shape: (47, 30, 1)\n"
     ]
    },
    {
     "name": "stdout",
     "output_type": "stream",
     "text": [
      "Epoch 1/300                                          \n",
      "\n",
      "Epoch 2/300                                          \n",
      "\n",
      "Epoch 3/300                                          \n",
      "\n",
      "Epoch 4/300                                          \n",
      "\n",
      "Epoch 5/300                                          \n",
      "\n",
      "Epoch 6/300                                          \n",
      "\n",
      "Epoch 7/300                                          \n",
      "\n",
      "Epoch 8/300                                          \n",
      "\n",
      "Epoch 9/300                                          \n",
      "\n",
      "Epoch 10/300                                         \n",
      "\n",
      "Epoch 11/300                                         \n",
      "\n",
      "Epoch 12/300                                         \n",
      "\n",
      "Epoch 13/300                                         \n",
      "\n",
      "Epoch 14/300                                         \n",
      "\n",
      "Epoch 15/300                                         \n",
      "\n",
      "Epoch 16/300                                         \n",
      "\n",
      "Epoch 17/300                                         \n",
      "\n",
      "Epoch 18/300                                         \n",
      "\n",
      "Epoch 19/300                                         \n",
      "\n",
      "Epoch 20/300                                         \n",
      "\n",
      "Epoch 21/300                                         \n",
      "\n",
      "Epoch 22/300                                         \n",
      "\n",
      "Epoch 23/300                                         \n",
      "\n",
      "Epoch 24/300                                         \n",
      "\n",
      "Epoch 25/300                                         \n",
      "\n",
      "Epoch 26/300                                         \n",
      "\n",
      "Epoch 27/300                                         \n",
      "\n",
      "Epoch 28/300                                         \n",
      "\n",
      "Epoch 29/300                                         \n",
      "\n",
      "Epoch 30/300                                         \n",
      "\n",
      "Epoch 31/300                                         \n",
      "\n",
      "\u001b[1m1/1\u001b[0m \u001b[32m━━━━━━━━━━━━━━━━━━━━\u001b[0m\u001b[37m\u001b[0m \u001b[1m0s\u001b[0m 623ms/step\n",
      "\u001b[1m1/1\u001b[0m \u001b[32m━━━━━━━━━━━━━━━━━━━━\u001b[0m\u001b[37m\u001b[0m \u001b[1m1s\u001b[0m 625ms/step\n",
      "\n",
      "   precision  recall   duration        f1            \n",
      "0        0.4     1.0  30.546089  0.571429\n",
      "  0%|          | 0/1 [00:33<?, ?trial/s, best loss=?]"
     ]
    },
    {
     "name": "stderr",
     "output_type": "stream",
     "text": [
      "2024-10-01 19:18:26,298 [INFO] Finished experiment for ppg signal, classifier: fcn, fold: 0\n"
     ]
    },
    {
     "name": "stdout",
     "output_type": "stream",
     "text": [
      "100%|██████████| 1/1 [00:34<00:00, 34.06s/trial, best loss: 0.6945256590843201]\n"
     ]
    },
    {
     "data": {
      "text/plain": [
       "<hyperopt.base.Trials at 0x746505be4150>"
      ]
     },
     "execution_count": 5,
     "metadata": {},
     "output_type": "execute_result"
    }
   ],
   "source": [
    "tuner.tune(evals=1, max_evals=10)"
   ]
  },
  {
   "cell_type": "code",
   "execution_count": null,
   "metadata": {},
   "outputs": [],
   "source": [
    "ct.tune(evals=1, max_evals=99)"
   ]
  },
  {
   "cell_type": "code",
   "execution_count": null,
   "metadata": {},
   "outputs": [],
   "source": [
    "eeg.splits[0].x_val().shape"
   ]
  },
  {
   "cell_type": "code",
   "execution_count": 4,
   "metadata": {},
   "outputs": [],
   "source": [
    "x, y =fee.get_test_data()"
   ]
  },
  {
   "cell_type": "code",
   "execution_count": null,
   "metadata": {},
   "outputs": [],
   "source": [
    "x.shape"
   ]
  },
  {
   "cell_type": "code",
   "execution_count": 5,
   "metadata": {},
   "outputs": [],
   "source": [
    "xt, yt, xtt, ytt, xv, yv = fee.get_train_data(fee.splits[0])"
   ]
  },
  {
   "cell_type": "code",
   "execution_count": null,
   "metadata": {},
   "outputs": [],
   "source": [
    "xt.shape"
   ]
  },
  {
   "cell_type": "code",
   "execution_count": null,
   "metadata": {},
   "outputs": [],
   "source": [
    "fee.splits[0].x_train().reshape((-1, 10, 30, 1)).shape"
   ]
  },
  {
   "cell_type": "code",
   "execution_count": null,
   "metadata": {},
   "outputs": [],
   "source": [
    "i = 3\n",
    "s = fee.splits[i].x_train().shape\n",
    "fee.splits[i].x_train().reshape((10, *s[:-1], 1)).shape"
   ]
  },
  {
   "cell_type": "code",
   "execution_count": null,
   "metadata": {},
   "outputs": [],
   "source": [
    "fee.splits[0].y_train().shape"
   ]
  },
  {
   "cell_type": "code",
   "execution_count": null,
   "metadata": {},
   "outputs": [],
   "source": [
    "emp.splits[0].y_train().shape"
   ]
  },
  {
   "cell_type": "code",
   "execution_count": null,
   "metadata": {},
   "outputs": [],
   "source": [
    "tuner.tune(evals=1, max_evals=2)"
   ]
  },
  {
   "cell_type": "code",
   "execution_count": 36,
   "metadata": {},
   "outputs": [],
   "source": [
    "def test_values(experiment):\n",
    "  x_test = np.concatenate([s.x() for s in experiment.test_subjects])\n",
    "  y_test = np.concatenate([s.y() for s in experiment.test_subjects])\n",
    "\n",
    "  x_test = np.reshape(x_test, (1, -1, 10))[0]\n",
    "  y_test = np.reshape(y_test, (1, -1))[0]\n",
    "  return x_test, y_test"
   ]
  },
  {
   "cell_type": "code",
   "execution_count": 30,
   "metadata": {},
   "outputs": [],
   "source": [
    "sms_preds = {}\n",
    "emp_preds = {}"
   ]
  },
  {
   "cell_type": "code",
   "execution_count": 32,
   "metadata": {},
   "outputs": [],
   "source": [
    "def cv_train(experiment, x_test, y_test, preds_dict):\n",
    "  X = []\n",
    "  y = []\n",
    "  for s in experiment.splits:\n",
    "    clf = svm.SVC()\n",
    "    X = np.concatenate([s.x_train(), s.x_val()])\n",
    "    y = np.concatenate([s.y_train(), s.y_val()])\n",
    "\n",
    "    X = np.reshape(X, (1, -1, 10))[0]\n",
    "    y = np.reshape(y, (1, -1))[0]\n",
    "\n",
    "    clf.fit(X, y)\n",
    "    y_pred = clf.predict(x_test)\n",
    "    preds_dict[s.id] = {\n",
    "      'y_pred': y_pred,\n",
    "      'y_true': y_test\n",
    "    }\n"
   ]
  },
  {
   "cell_type": "code",
   "execution_count": 33,
   "metadata": {},
   "outputs": [],
   "source": [
    "from sklearn.metrics import classification_report\n",
    "from matplotlib import pyplot as plt"
   ]
  },
  {
   "cell_type": "code",
   "execution_count": 34,
   "metadata": {},
   "outputs": [],
   "source": [
    "def show_results(y_preds):\n",
    "  for x in y_preds:\n",
    "    print(f'Subject {x}')\n",
    "    y_true = y_preds[x]['y_true']\n",
    "    y_pred = y_preds[x]['y_pred']\n",
    "    print(classification_report(y_pred,y_true))\n",
    "\n",
    "    plt.figure(figsize=(16, 8))\n",
    "    plt.plot(y_true, 'b-', y_pred, 'r.')\n",
    "    plt.show()"
   ]
  },
  {
   "cell_type": "code",
   "execution_count": 37,
   "metadata": {},
   "outputs": [],
   "source": [
    "smsx, smsy = test_values(fee)\n",
    "empx, empy = test_values(emp)"
   ]
  },
  {
   "cell_type": "code",
   "execution_count": 41,
   "metadata": {},
   "outputs": [],
   "source": [
    "cv_train(fee, smsx, smsy, sms_preds)\n",
    "cv_train(emp, empx, empy, emp_preds)"
   ]
  },
  {
   "cell_type": "code",
   "execution_count": null,
   "metadata": {},
   "outputs": [],
   "source": [
    "show_results(emp_preds)"
   ]
  },
  {
   "cell_type": "code",
   "execution_count": null,
   "metadata": {},
   "outputs": [],
   "source": [
    "show_results(sms_preds)"
   ]
  },
  {
   "cell_type": "code",
   "execution_count": null,
   "metadata": {},
   "outputs": [],
   "source": [
    "ppg.show_filtered(5, 2, [0.1, 9])"
   ]
  },
  {
   "cell_type": "code",
   "execution_count": null,
   "metadata": {},
   "outputs": [],
   "source": [
    "ppg.show_dx1(8)"
   ]
  },
  {
   "cell_type": "code",
   "execution_count": null,
   "metadata": {},
   "outputs": [],
   "source": [
    "wi = []\n",
    "for p in ppg._ms_points:\n",
    "  if p < 750:\n",
    "    wi.append(0)\n",
    "\n",
    "len(wi)"
   ]
  },
  {
   "cell_type": "code",
   "execution_count": null,
   "metadata": {},
   "outputs": [],
   "source": [
    "np.median([189, 12, 12, 14])"
   ]
  },
  {
   "cell_type": "code",
   "execution_count": null,
   "metadata": {},
   "outputs": [],
   "source": [
    "ppg.show_dx(5)"
   ]
  },
  {
   "cell_type": "code",
   "execution_count": null,
   "metadata": {},
   "outputs": [],
   "source": [
    "ppg.show_dx(2, 2)"
   ]
  },
  {
   "cell_type": "code",
   "execution_count": null,
   "metadata": {},
   "outputs": [],
   "source": [
    "ppg.show_dx(5, 3)"
   ]
  },
  {
   "cell_type": "code",
   "execution_count": null,
   "metadata": {},
   "outputs": [],
   "source": [
    "emp.show(5)"
   ]
  },
  {
   "cell_type": "code",
   "execution_count": null,
   "metadata": {},
   "outputs": [],
   "source": [
    "emp.show(0)"
   ]
  },
  {
   "cell_type": "code",
   "execution_count": null,
   "metadata": {},
   "outputs": [],
   "source": [
    "emp.show_filtered(0, 2, [0.1, 10])"
   ]
  },
  {
   "cell_type": "code",
   "execution_count": null,
   "metadata": {},
   "outputs": [],
   "source": [
    "eeg.show(11)"
   ]
  },
  {
   "cell_type": "code",
   "execution_count": null,
   "metadata": {},
   "outputs": [],
   "source": [
    "ppg.show(11)"
   ]
  },
  {
   "cell_type": "code",
   "execution_count": null,
   "metadata": {},
   "outputs": [],
   "source": [
    "emp.show(11)"
   ]
  },
  {
   "cell_type": "code",
   "execution_count": null,
   "metadata": {},
   "outputs": [],
   "source": [
    "eda.show(11)"
   ]
  },
  {
   "cell_type": "code",
   "execution_count": 3,
   "metadata": {},
   "outputs": [],
   "source": [
    "def ft(seconds):\n",
    "  return f\"{seconds // 60}\\'{seconds % 60}\\\"\""
   ]
  },
  {
   "cell_type": "code",
   "execution_count": null,
   "metadata": {},
   "outputs": [],
   "source": [
    "stat = pd.DataFrame(columns=[\"volunteer\", \"sms_na\", \"sms_total\", \"sms_recording\", \"emp_na\", \"emp_total\", \"emp_recording\", \"eda_na\", \"eda_total\", \"eda_recording\", \"eeg_na\", \"eeg_total\", \"eeg_recording\"])\n",
    "vols = os.listdir(survey_path)\n",
    "vols.sort()\n",
    "for v in vols:\n",
    "  metrics = {\"volunteer\": v,\n",
    "             'sms_min': 0, 'sms_max': 0, 'sms_mean': 0, 'sms_std': 0,\n",
    "             'emp_min': 0, 'emp_max': 0, 'emp_mean': 0, 'emp_std': 0,\n",
    "             'eda_min': 0, 'eda_max': 0, 'eda_mean': 0, 'eds_std': 0,\n",
    "             'eeg_min': 0, 'eeg_max': 0, 'eeg_mean': 0, 'eeg_std': 0,\n",
    "             'sms_ratio': 0,'emp_ratio': 0,'eda_ratio': 0,'eeg_ratio': 0, 'sms_t': '', 'emp_t': '', 'eda_t': '', 'eeg_t': '', \"sms_na\": 0, \"sms_total\": 0, \"sms_recording\": 0, \"emp_na\": 0, \"emp_total\": 0, \"emp_recording\": 0, \"eda_na\": 0, \"eda_total\": 0, \"eda_recording\": 0, \"eeg_na\": 0, \"eeg_total\": 0, \"eeg_recording\": 0}\n",
    "  samsung = pd.read_csv(os.path.join(survey_path, v, \"samsung_ppg.csv\"))\n",
    "  emp = pd.read_csv(os.path.join(survey_path, v, \"empatica_ppg.csv\"))\n",
    "  eda = pd.read_csv(os.path.join(survey_path, v, \"empatica_eda.csv\"))\n",
    "  eeg = pd.read_csv(os.path.join(survey_path, v, \"muse_eeg.csv\"))\n",
    "  # print(f\"Volunteer {v}\")\n",
    "\n",
    "  total = samsung.shape[0]\n",
    "  metrics[\"sms_total\"] = total\n",
    "  na = samsung.isnull().any(axis=1).sum()\n",
    "  metrics[\"sms_na\"] = na\n",
    "  seconds = total // 25\n",
    "  metrics[\"sms_recording\"] = seconds\n",
    "  metrics[\"sms_t\"] = ft(seconds)\n",
    "  cl_s = len(samsung.where(samsung['y'] == 1).dropna())\n",
    "  bl_s = len(samsung.where(samsung['y'] == 0).dropna())\n",
    "  metrics['sms_min'] = round(samsung['ppg'].min(), 3).__str__()\n",
    "  metrics['sms_max'] = round(samsung['ppg'].max(), 2).__str__()\n",
    "  metrics['sms_mean'] = round(samsung['ppg'].mean(), 3).__str__()\n",
    "  metrics['sms_std'] = round(samsung['ppg'].std(), 3).__str__()\n",
    "  s_ratio = round(cl_s / bl_s, 3)\n",
    "  metrics['sms_ratio'] = s_ratio\n",
    "  # print(f\"  PPG| na: {na} | total: {total} | ratio: {s_ratio} | {seconds // 60}\\' {seconds % 60}\\\"\")\n",
    "\n",
    "  total = emp.shape[0]\n",
    "  metrics[\"emp_total\"] = total\n",
    "  na = emp.isnull().any(axis=1).sum()\n",
    "  metrics[\"emp_na\"] = na\n",
    "  cl = len(emp.where(emp['y'] == 1).dropna())\n",
    "  bl = len(emp.where(emp['y'] == 0).dropna())\n",
    "  seconds = total // 64\n",
    "  metrics[\"emp_t\"] = ft(seconds)\n",
    "  metrics[\"emp_recording\"] = seconds\n",
    "  emp_ratio = round(cl / bl, 3)\n",
    "  metrics['emp_ratio'] = emp_ratio\n",
    "  metrics['emp_min'] = round(emp['ppg'].min(), 3).__str__()\n",
    "  metrics['emp_max'] = round(emp['ppg'].max(), 3).__str__()\n",
    "  metrics['emp_mean'] = round(emp['ppg'].mean(), 3).__str__()\n",
    "  metrics['emp_std'] = round(emp['ppg'].std(), 3).__str__()\n",
    "  # print(f\"  EMP| na: {na} | total: {total} | ratio: {emp_ratio} | {seconds // 60}\\' {seconds % 60}\\\"\")\n",
    "\n",
    "  total = eda.shape[0]\n",
    "  metrics[\"eda_total\"] = total\n",
    "  na = eda.isnull().any(axis=1).sum()\n",
    "  cl = len(eda.where(eda['y'] == 1).dropna())\n",
    "  bl = len(eda.where(eda['y'] == 0).dropna())\n",
    "  metrics[\"eda_na\"] = na\n",
    "  seconds = total // 4\n",
    "  metrics[\"eda_t\"] = ft(seconds)\n",
    "  metrics[\"eda_recording\"] = seconds\n",
    "  eda_ratio = round(cl / bl, 3)\n",
    "  metrics['eda_ratio'] = eda_ratio\n",
    "  metrics['eda_min'] = round(eda['eda'].min(), 3).__str__()\n",
    "  metrics['eda_max'] = round(eda['eda'].max(), 3).__str__()\n",
    "  metrics['eda_mean'] = round(eda['eda'].mean(), 3).__str__()\n",
    "  metrics['eda_std'] = round(eda['eda'].std(), 3).__str__()\n",
    "  # print(f\"  EDA| na: {na} | total: {total} | ratio: {eda_ratio} | {seconds // 60}\\' {seconds % 60}\\\"\")\n",
    "\n",
    "  total = eeg.shape[0]\n",
    "  metrics[\"eeg_total\"] = total\n",
    "  na = eeg.isnull().any(axis=1).sum()\n",
    "  metrics[\"eeg_na\"] = na\n",
    "  cl = len(eeg.where(eeg['y'] == 1).dropna())\n",
    "  bl = len(eeg.where(eeg['y'] == 0).dropna())\n",
    "  seconds = total // 256\n",
    "  metrics[\"eeg_t\"] = ft(seconds)\n",
    "  metrics[\"eeg_recording\"] = seconds\n",
    "  eeg_ratio = round(cl / (bl | 1), 3)\n",
    "  metrics['eeg_ratio'] = eeg_ratio\n",
    "  # print(f\"  EEG| na: {na} | total: {total} | ratio: {eeg_ratio} | {seconds // 60}\\' {seconds % 60}\\\"\")\n",
    "\n",
    "  latex = '''\\\n",
    "    \\\\midrule\n",
    "    \\\\textbf {{Voluntário {volunteer}}} \\\\\\\\\n",
    "      Samsung PPG  & {sms_t}    & {sms_ratio}    & {sms_total}  & {sms_na} & {sms_min} & {sms_max} & {sms_mean} & {sms_std}  \\\\\\\\\n",
    "      Empatica PPG  & {emp_t}    & {emp_ratio}    & {emp_total}  & {emp_na} & {emp_min} & {emp_max} & {emp_mean} & {emp_std} \\\\\\\\\n",
    "      Empatica EDA  & {eda_t}    & {eda_ratio}    & {eda_total}  & {eda_na}& {eda_min} & {eda_max} & {eda_mean} & {eda_std}  \\\\\\\\\n",
    "      Muse EEG  & {eeg_t}    & {eeg_ratio}    & {eeg_total}  & {eeg_na} & N/A & N/A & N/A & N/A \\\\\\\\\n",
    "  '''.format(**metrics)\n",
    "  print(latex)\n",
    "\n",
    "  # row = pd.DataFrame(data=metrics, index=[0])\n",
    "  # stat = pd.concat([stat, row], ignore_index=True)\n"
   ]
  },
  {
   "cell_type": "code",
   "execution_count": null,
   "metadata": {},
   "outputs": [],
   "source": [
    "for row in stat.iterrows():\n",
    "  print((row[1][\"eeg_na\"] / row[1][\"eeg_total\"]) * 100)"
   ]
  }
 ],
 "metadata": {
  "kernelspec": {
   "display_name": "Python 3",
   "language": "python",
   "name": "python3"
  },
  "language_info": {
   "codemirror_mode": {
    "name": "ipython",
    "version": 3
   },
   "file_extension": ".py",
   "mimetype": "text/x-python",
   "name": "python",
   "nbconvert_exporter": "python",
   "pygments_lexer": "ipython3",
   "version": "3.11.4"
  }
 },
 "nbformat": 4,
 "nbformat_minor": 2
}
